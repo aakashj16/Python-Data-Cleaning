{
 "cells": [
  {
   "cell_type": "code",
   "execution_count": 1,
   "id": "a1d486de-77d8-4134-af16-332157a9f0fc",
   "metadata": {},
   "outputs": [],
   "source": [
    "# importing libraries\n",
    "import numpy as np\n",
    "import pandas as pd"
   ]
  },
  {
   "cell_type": "code",
   "execution_count": 2,
   "id": "a950a679-1329-4875-8c34-fd7c17558497",
   "metadata": {},
   "outputs": [],
   "source": [
    "# reading cafe sales data\n",
    "df = pd.read_csv('Cafe Sales.csv', low_memory = False)"
   ]
  },
  {
   "cell_type": "code",
   "execution_count": 3,
   "id": "fe8bca25-5f01-44b8-a1c1-04cce350b06a",
   "metadata": {},
   "outputs": [
    {
     "data": {
      "text/html": [
       "<div>\n",
       "<style scoped>\n",
       "    .dataframe tbody tr th:only-of-type {\n",
       "        vertical-align: middle;\n",
       "    }\n",
       "\n",
       "    .dataframe tbody tr th {\n",
       "        vertical-align: top;\n",
       "    }\n",
       "\n",
       "    .dataframe thead th {\n",
       "        text-align: right;\n",
       "    }\n",
       "</style>\n",
       "<table border=\"1\" class=\"dataframe\">\n",
       "  <thead>\n",
       "    <tr style=\"text-align: right;\">\n",
       "      <th></th>\n",
       "      <th>Transaction ID</th>\n",
       "      <th>Item</th>\n",
       "      <th>Quantity</th>\n",
       "      <th>Price Per Unit</th>\n",
       "      <th>Total Spent</th>\n",
       "      <th>Payment Method</th>\n",
       "      <th>Location</th>\n",
       "      <th>Transaction Date</th>\n",
       "    </tr>\n",
       "  </thead>\n",
       "  <tbody>\n",
       "    <tr>\n",
       "      <th>0</th>\n",
       "      <td>TXN_1961373</td>\n",
       "      <td>Coffee</td>\n",
       "      <td>2</td>\n",
       "      <td>2.0</td>\n",
       "      <td>4.0</td>\n",
       "      <td>Credit Card</td>\n",
       "      <td>Takeaway</td>\n",
       "      <td>2023-09-08</td>\n",
       "    </tr>\n",
       "    <tr>\n",
       "      <th>1</th>\n",
       "      <td>TXN_4977031</td>\n",
       "      <td>Cake</td>\n",
       "      <td>4</td>\n",
       "      <td>3.0</td>\n",
       "      <td>12.0</td>\n",
       "      <td>Cash</td>\n",
       "      <td>In-store</td>\n",
       "      <td>2023-05-16</td>\n",
       "    </tr>\n",
       "    <tr>\n",
       "      <th>2</th>\n",
       "      <td>TXN_4271903</td>\n",
       "      <td>Cookie</td>\n",
       "      <td>4</td>\n",
       "      <td>1.0</td>\n",
       "      <td>ERROR</td>\n",
       "      <td>Credit Card</td>\n",
       "      <td>In-store</td>\n",
       "      <td>2023-07-19</td>\n",
       "    </tr>\n",
       "    <tr>\n",
       "      <th>3</th>\n",
       "      <td>TXN_7034554</td>\n",
       "      <td>Salad</td>\n",
       "      <td>2</td>\n",
       "      <td>5.0</td>\n",
       "      <td>10.0</td>\n",
       "      <td>UNKNOWN</td>\n",
       "      <td>UNKNOWN</td>\n",
       "      <td>2023-04-27</td>\n",
       "    </tr>\n",
       "    <tr>\n",
       "      <th>4</th>\n",
       "      <td>TXN_3160411</td>\n",
       "      <td>Coffee</td>\n",
       "      <td>2</td>\n",
       "      <td>2.0</td>\n",
       "      <td>4.0</td>\n",
       "      <td>Digital Wallet</td>\n",
       "      <td>In-store</td>\n",
       "      <td>2023-06-11</td>\n",
       "    </tr>\n",
       "  </tbody>\n",
       "</table>\n",
       "</div>"
      ],
      "text/plain": [
       "  Transaction ID    Item Quantity Price Per Unit Total Spent  Payment Method  \\\n",
       "0    TXN_1961373  Coffee        2            2.0         4.0     Credit Card   \n",
       "1    TXN_4977031    Cake        4            3.0        12.0            Cash   \n",
       "2    TXN_4271903  Cookie        4            1.0       ERROR     Credit Card   \n",
       "3    TXN_7034554   Salad        2            5.0        10.0         UNKNOWN   \n",
       "4    TXN_3160411  Coffee        2            2.0         4.0  Digital Wallet   \n",
       "\n",
       "   Location Transaction Date  \n",
       "0  Takeaway       2023-09-08  \n",
       "1  In-store       2023-05-16  \n",
       "2  In-store       2023-07-19  \n",
       "3   UNKNOWN       2023-04-27  \n",
       "4  In-store       2023-06-11  "
      ]
     },
     "execution_count": 3,
     "metadata": {},
     "output_type": "execute_result"
    }
   ],
   "source": [
    "# inspecting first few rows of the dataset\n",
    "df.head()"
   ]
  },
  {
   "cell_type": "code",
   "execution_count": 4,
   "id": "106798b1-0c9f-44e9-ad90-b6824231a350",
   "metadata": {},
   "outputs": [
    {
     "name": "stdout",
     "output_type": "stream",
     "text": [
      "<class 'pandas.core.frame.DataFrame'>\n",
      "RangeIndex: 10000 entries, 0 to 9999\n",
      "Data columns (total 8 columns):\n",
      " #   Column            Non-Null Count  Dtype \n",
      "---  ------            --------------  ----- \n",
      " 0   Transaction ID    10000 non-null  object\n",
      " 1   Item              9667 non-null   object\n",
      " 2   Quantity          9862 non-null   object\n",
      " 3   Price Per Unit    9821 non-null   object\n",
      " 4   Total Spent       9827 non-null   object\n",
      " 5   Payment Method    7421 non-null   object\n",
      " 6   Location          6735 non-null   object\n",
      " 7   Transaction Date  9841 non-null   object\n",
      "dtypes: object(8)\n",
      "memory usage: 625.1+ KB\n"
     ]
    }
   ],
   "source": [
    "# checking the basic structure and datatypes of the dataset\n",
    "df.info()"
   ]
  },
  {
   "cell_type": "code",
   "execution_count": 5,
   "id": "acfb0227-e6f9-4c70-a0e5-6ae0f69831c5",
   "metadata": {},
   "outputs": [
    {
     "name": "stdout",
     "output_type": "stream",
     "text": [
      "Cafe sales data contains 0 duplicate records.\n"
     ]
    }
   ],
   "source": [
    "# checking if there are any duplicate records in the data\n",
    "print(f'Cafe sales data contains {sum(df.duplicated())} duplicate records.')"
   ]
  },
  {
   "cell_type": "code",
   "execution_count": 6,
   "id": "1fd2ecbf-e331-4cad-85fd-22a9b4a4fe7c",
   "metadata": {},
   "outputs": [
    {
     "data": {
      "text/plain": [
       "Transaction ID       0.00\n",
       "Item                 3.33\n",
       "Quantity             1.38\n",
       "Price Per Unit       1.79\n",
       "Total Spent          1.73\n",
       "Payment Method      25.79\n",
       "Location            32.65\n",
       "Transaction Date     1.59\n",
       "dtype: float64"
      ]
     },
     "execution_count": 6,
     "metadata": {},
     "output_type": "execute_result"
    }
   ],
   "source": [
    "# nspecting missing data percentage for each column\n",
    "df.isnull().sum() * 100 / len(df)"
   ]
  },
  {
   "cell_type": "code",
   "execution_count": 7,
   "id": "326a5ba1-4b26-419b-bf1e-407177ef09c9",
   "metadata": {},
   "outputs": [
    {
     "name": "stdout",
     "output_type": "stream",
     "text": [
      "Total Spent:\n",
      "['4.0' '12.0' 'ERROR' '10.0' '20.0' '9.0' '16.0' '15.0' '25.0' '8.0' '5.0'\n",
      " '3.0' '6.0' nan 'UNKNOWN' '2.0' '1.0' '7.5' '4.5' '1.5']\n",
      "\n",
      "Item:\n",
      "['Coffee' 'Cake' 'Cookie' 'Salad' 'Smoothie' 'UNKNOWN' 'Sandwich' nan\n",
      " 'ERROR' 'Juice' 'Tea']\n",
      "\n",
      "Payment Method:\n",
      "['Credit Card' 'Cash' 'UNKNOWN' 'Digital Wallet' 'ERROR' nan]\n",
      "\n",
      "Location:\n",
      "['Takeaway' 'In-store' 'UNKNOWN' nan 'ERROR']\n",
      "\n",
      "Quantity:\n",
      "['2' '4' '5' '3' '1' 'ERROR' 'UNKNOWN' nan]\n",
      "\n",
      "Transaction Date:\n",
      "['2023-09-08' '2023-05-16' '2023-07-19' '2023-04-27' '2023-06-11'\n",
      " '2023-03-31' '2023-10-06' '2023-10-28' '2023-07-28' '2023-12-31'\n",
      " '2023-11-07' 'ERROR' '2023-05-03' '2023-06-01' '2023-03-21' '2023-11-15'\n",
      " '2023-06-10' '2023-02-24' '2023-03-25' '2023-01-15' '2023-04-04'\n",
      " '2023-03-30' '2023-12-01' '2023-09-18' '2023-06-03' '2023-12-13'\n",
      " '2023-04-20' '2023-04-10' '2023-03-11' '2023-06-02' '2023-11-06'\n",
      " '2023-08-15' '2023-10-09' '2023-05-28' '2023-07-17' '2023-04-29'\n",
      " '2023-06-08' '2023-06-29' '2023-04-17' '2023-12-22' '2023-01-10'\n",
      " '2023-10-02' '2023-02-23' '2023-03-22' '2023-11-03' '2023-03-02'\n",
      " '2023-06-26' '2023-05-02' '2023-09-05' '2023-01-08' '2023-03-15'\n",
      " '2023-11-25' '2023-12-05' '2023-03-19' '2023-06-27' '2023-04-19'\n",
      " '2023-10-07' '2023-09-30' '2023-05-27' '2023-11-18' '2023-10-20'\n",
      " '2023-10-03' '2023-10-27' '2023-04-06' '2023-01-31' '2023-12-08'\n",
      " '2023-06-19' '2023-12-14' '2023-07-16' '2023-02-22' nan '2023-06-15'\n",
      " '2023-12-09' '2023-04-18' '2023-10-29' '2023-04-30' '2023-04-02'\n",
      " '2023-05-24' '2023-03-12' '2023-08-16' '2023-09-10' '2023-03-07'\n",
      " '2023-08-07' '2023-08-20' '2023-04-15' '2023-07-25' '2023-10-30'\n",
      " '2023-12-15' '2023-02-25' '2023-04-03' '2023-10-08' '2023-12-28'\n",
      " '2023-08-30' '2023-02-03' '2023-09-12' '2023-05-04' '2023-02-21'\n",
      " 'UNKNOWN' '2023-03-16' '2023-02-06' '2023-03-29' '2023-06-18'\n",
      " '2023-09-23' '2023-01-14' '2023-09-14' '2023-09-16' '2023-04-08'\n",
      " '2023-12-19' '2023-07-14' '2023-12-12' '2023-01-05' '2023-01-23'\n",
      " '2023-02-20' '2023-12-06' '2023-05-31' '2023-08-11' '2023-09-03'\n",
      " '2023-07-11' '2023-06-06' '2023-01-18' '2023-03-23' '2023-01-04'\n",
      " '2023-06-23' '2023-08-03' '2023-07-12' '2023-11-02' '2023-07-31'\n",
      " '2023-09-19' '2023-02-09' '2023-09-04' '2023-05-21' '2023-07-02'\n",
      " '2023-07-10' '2023-11-21' '2023-12-02' '2023-03-13' '2023-08-12'\n",
      " '2023-02-16' '2023-04-11' '2023-03-26' '2023-11-01' '2023-07-22'\n",
      " '2023-07-26' '2023-02-28' '2023-01-27' '2023-01-19' '2023-04-07'\n",
      " '2023-03-20' '2023-12-27' '2023-10-26' '2023-02-18' '2023-05-15'\n",
      " '2023-12-10' '2023-04-21' '2023-02-04' '2023-11-12' '2023-08-05'\n",
      " '2023-05-10' '2023-07-15' '2023-01-11' '2023-10-01' '2023-04-26'\n",
      " '2023-08-25' '2023-03-01' '2023-11-13' '2023-07-09' '2023-05-13'\n",
      " '2023-05-18' '2023-01-17' '2023-09-22' '2023-08-22' '2023-07-27'\n",
      " '2023-12-30' '2023-12-21' '2023-09-28' '2023-11-16' '2023-04-14'\n",
      " '2023-01-03' '2023-01-12' '2023-08-31' '2023-07-07' '2023-09-15'\n",
      " '2023-10-21' '2023-09-02' '2023-08-19' '2023-01-06' '2023-10-13'\n",
      " '2023-05-29' '2023-05-22' '2023-11-23' '2023-10-15' '2023-11-14'\n",
      " '2023-11-26' '2023-12-17' '2023-05-09' '2023-10-22' '2023-06-30'\n",
      " '2023-04-25' '2023-02-19' '2023-12-11' '2023-10-12' '2023-07-04'\n",
      " '2023-01-28' '2023-10-04' '2023-02-26' '2023-10-11' '2023-02-14'\n",
      " '2023-04-28' '2023-09-06' '2023-04-23' '2023-01-22' '2023-03-10'\n",
      " '2023-01-09' '2023-12-03' '2023-08-06' '2023-12-29' '2023-02-15'\n",
      " '2023-05-25' '2023-10-31' '2023-02-27' '2023-03-03' '2023-09-27'\n",
      " '2023-08-18' '2023-12-16' '2023-06-07' '2023-05-12' '2023-07-06'\n",
      " '2023-06-20' '2023-08-09' '2023-05-14' '2023-07-18' '2023-10-10'\n",
      " '2023-02-02' '2023-08-14' '2023-09-26' '2023-01-13' '2023-10-16'\n",
      " '2023-11-17' '2023-12-20' '2023-12-04' '2023-02-08' '2023-09-11'\n",
      " '2023-02-01' '2023-02-12' '2023-03-14' '2023-09-29' '2023-04-22'\n",
      " '2023-06-13' '2023-12-24' '2023-03-28' '2023-03-06' '2023-02-11'\n",
      " '2023-01-30' '2023-04-09' '2023-04-16' '2023-12-23' '2023-03-05'\n",
      " '2023-03-24' '2023-07-23' '2023-07-29' '2023-06-05' '2023-10-19'\n",
      " '2023-01-07' '2023-11-29' '2023-07-05' '2023-07-20' '2023-05-07'\n",
      " '2023-08-10' '2023-10-24' '2023-08-13' '2023-08-28' '2023-06-21'\n",
      " '2023-11-10' '2023-10-18' '2023-05-19' '2023-11-09' '2023-06-24'\n",
      " '2023-05-11' '2023-12-07' '2023-09-01' '2023-09-25' '2023-06-22'\n",
      " '2023-05-30' '2023-04-24' '2023-09-20' '2023-02-07' '2023-05-05'\n",
      " '2023-02-10' '2023-11-24' '2023-10-25' '2023-10-05' '2023-07-21'\n",
      " '2023-07-08' '2023-03-17' '2023-10-14' '2023-06-28' '2023-09-09'\n",
      " '2023-08-21' '2023-07-01' '2023-06-14' '2023-03-09' '2023-11-08'\n",
      " '2023-12-26' '2023-09-13' '2023-05-23' '2023-08-24' '2023-04-01'\n",
      " '2023-06-09' '2023-08-23' '2023-08-08' '2023-08-27' '2023-05-26'\n",
      " '2023-06-16' '2023-12-25' '2023-01-25' '2023-10-23' '2023-05-06'\n",
      " '2023-01-29' '2023-08-29' '2023-01-01' '2023-07-24' '2023-04-12'\n",
      " '2023-12-18' '2023-09-21' '2023-05-01' '2023-02-05' '2023-01-24'\n",
      " '2023-01-02' '2023-06-12' '2023-01-16' '2023-10-17' '2023-03-04'\n",
      " '2023-06-17' '2023-03-18' '2023-08-26' '2023-05-17' '2023-11-22'\n",
      " '2023-08-17' '2023-11-19' '2023-11-27' '2023-06-04' '2023-09-17'\n",
      " '2023-11-04' '2023-11-28' '2023-06-25' '2023-04-13' '2023-01-26'\n",
      " '2023-08-04' '2023-05-08' '2023-11-20' '2023-07-13' '2023-09-24'\n",
      " '2023-01-21' '2023-03-08' '2023-09-07' '2023-11-30' '2023-08-02'\n",
      " '2023-04-05' '2023-08-01' '2023-01-20' '2023-11-11' '2023-02-13'\n",
      " '2023-07-30' '2023-02-17' '2023-05-20' '2023-11-05' '2023-03-27'\n",
      " '2023-07-03']\n",
      "\n",
      "Price Per Unit:\n",
      "['2.0' '3.0' '1.0' '5.0' '4.0' '1.5' nan 'ERROR' 'UNKNOWN']\n",
      "\n"
     ]
    }
   ],
   "source": [
    "# inspecting unique values in all columns except 'Transaction ID' \n",
    "df_columns = set(df.columns)\n",
    "exclude = {'Transaction ID'}\n",
    "df_columns = df_columns.difference(exclude)\n",
    "df_columns = list(df_columns)\n",
    "\n",
    "# displaying unique values for each column to better understand data distribution\n",
    "for column in df_columns:\n",
    "    print(f'{column}:\\n{df[column].unique()}', end = '\\n\\n')"
   ]
  },
  {
   "cell_type": "code",
   "execution_count": 8,
   "id": "a627c295-b1ed-45ec-bb3a-0ac0420c79d5",
   "metadata": {},
   "outputs": [
    {
     "data": {
      "text/html": [
       "<div>\n",
       "<style scoped>\n",
       "    .dataframe tbody tr th:only-of-type {\n",
       "        vertical-align: middle;\n",
       "    }\n",
       "\n",
       "    .dataframe tbody tr th {\n",
       "        vertical-align: top;\n",
       "    }\n",
       "\n",
       "    .dataframe thead th {\n",
       "        text-align: right;\n",
       "    }\n",
       "</style>\n",
       "<table border=\"1\" class=\"dataframe\">\n",
       "  <thead>\n",
       "    <tr style=\"text-align: right;\">\n",
       "      <th></th>\n",
       "      <th>Transaction ID</th>\n",
       "      <th>Item</th>\n",
       "      <th>Quantity</th>\n",
       "      <th>Price Per Unit</th>\n",
       "      <th>Total Spent</th>\n",
       "      <th>Payment Method</th>\n",
       "      <th>Location</th>\n",
       "      <th>Transaction Date</th>\n",
       "    </tr>\n",
       "  </thead>\n",
       "  <tbody>\n",
       "    <tr>\n",
       "      <th>0</th>\n",
       "      <td>TXN_1961373</td>\n",
       "      <td>Coffee</td>\n",
       "      <td>2</td>\n",
       "      <td>2.0</td>\n",
       "      <td>4.0</td>\n",
       "      <td>Credit Card</td>\n",
       "      <td>Takeaway</td>\n",
       "      <td>2023-09-08</td>\n",
       "    </tr>\n",
       "    <tr>\n",
       "      <th>1</th>\n",
       "      <td>TXN_4977031</td>\n",
       "      <td>Cake</td>\n",
       "      <td>4</td>\n",
       "      <td>3.0</td>\n",
       "      <td>12.0</td>\n",
       "      <td>Cash</td>\n",
       "      <td>In-store</td>\n",
       "      <td>2023-05-16</td>\n",
       "    </tr>\n",
       "    <tr>\n",
       "      <th>2</th>\n",
       "      <td>TXN_4271903</td>\n",
       "      <td>Cookie</td>\n",
       "      <td>4</td>\n",
       "      <td>1.0</td>\n",
       "      <td>NaN</td>\n",
       "      <td>Credit Card</td>\n",
       "      <td>In-store</td>\n",
       "      <td>2023-07-19</td>\n",
       "    </tr>\n",
       "    <tr>\n",
       "      <th>3</th>\n",
       "      <td>TXN_7034554</td>\n",
       "      <td>Salad</td>\n",
       "      <td>2</td>\n",
       "      <td>5.0</td>\n",
       "      <td>10.0</td>\n",
       "      <td>NaN</td>\n",
       "      <td>NaN</td>\n",
       "      <td>2023-04-27</td>\n",
       "    </tr>\n",
       "    <tr>\n",
       "      <th>4</th>\n",
       "      <td>TXN_3160411</td>\n",
       "      <td>Coffee</td>\n",
       "      <td>2</td>\n",
       "      <td>2.0</td>\n",
       "      <td>4.0</td>\n",
       "      <td>Digital Wallet</td>\n",
       "      <td>In-store</td>\n",
       "      <td>2023-06-11</td>\n",
       "    </tr>\n",
       "  </tbody>\n",
       "</table>\n",
       "</div>"
      ],
      "text/plain": [
       "  Transaction ID    Item Quantity Price Per Unit Total Spent  Payment Method  \\\n",
       "0    TXN_1961373  Coffee        2            2.0         4.0     Credit Card   \n",
       "1    TXN_4977031    Cake        4            3.0        12.0            Cash   \n",
       "2    TXN_4271903  Cookie        4            1.0         NaN     Credit Card   \n",
       "3    TXN_7034554   Salad        2            5.0        10.0             NaN   \n",
       "4    TXN_3160411  Coffee        2            2.0         4.0  Digital Wallet   \n",
       "\n",
       "   Location Transaction Date  \n",
       "0  Takeaway       2023-09-08  \n",
       "1  In-store       2023-05-16  \n",
       "2  In-store       2023-07-19  \n",
       "3       NaN       2023-04-27  \n",
       "4  In-store       2023-06-11  "
      ]
     },
     "execution_count": 8,
     "metadata": {},
     "output_type": "execute_result"
    }
   ],
   "source": [
    "# replacing all ERROR and UNKNOWN values with NaN\n",
    "df = df.replace(['ERROR', 'UNKNOWN'], np.nan)\n",
    "df.head()"
   ]
  },
  {
   "cell_type": "code",
   "execution_count": 9,
   "id": "897fa5dc-e5db-4b80-8a08-035867941c25",
   "metadata": {},
   "outputs": [],
   "source": [
    "# changing data types of specific columns for proper analysis\n",
    "df['Quantity'] = df['Quantity'].astype('Int64')\n",
    "df[['Price Per Unit', 'Total Spent']] = df[['Price Per Unit', 'Total Spent']].astype('float')\n",
    "df['Transaction Date'] = pd.to_datetime(df['Transaction Date'])"
   ]
  },
  {
   "cell_type": "code",
   "execution_count": 10,
   "id": "46387a5e-a2b8-4595-8d96-65d3557d14d9",
   "metadata": {},
   "outputs": [
    {
     "data": {
      "text/plain": [
       "Transaction ID       0.00\n",
       "Item                 9.69\n",
       "Quantity             4.79\n",
       "Price Per Unit       5.33\n",
       "Total Spent          5.02\n",
       "Payment Method      31.78\n",
       "Location            39.61\n",
       "Transaction Date     4.60\n",
       "dtype: float64"
      ]
     },
     "execution_count": 10,
     "metadata": {},
     "output_type": "execute_result"
    }
   ],
   "source": [
    "# rechecking missing data after data type changes\n",
    "df.isnull().sum() * 100 / len(df)"
   ]
  },
  {
   "cell_type": "code",
   "execution_count": 11,
   "id": "d9c30e1e-5dc2-4c0e-a380-0127e3d95910",
   "metadata": {},
   "outputs": [],
   "source": [
    "# dropping records where 'Transaction Date' is missing\n",
    "df = df.dropna(subset = ['Transaction Date'])"
   ]
  },
  {
   "cell_type": "code",
   "execution_count": 12,
   "id": "82dcae8c-7aef-44f0-8960-1baa7ec65fde",
   "metadata": {},
   "outputs": [],
   "source": [
    "# replacing all missing values in 'Payment Method' and 'Location' with 'Unknown'\n",
    "# dropping these high-volume records would lead to significant data loss\n",
    "# imputing with 'Unknown' avoids bias\n",
    "df[['Payment Method', 'Location']] = df[['Payment Method', 'Location']].fillna('Unknown')"
   ]
  },
  {
   "cell_type": "code",
   "execution_count": 13,
   "id": "741db8f9-a680-46a3-8154-34f9e0b22c7c",
   "metadata": {},
   "outputs": [],
   "source": [
    "# replacing missing values in 'Item' with the mode value\n",
    "df['Item'] = df['Item'].fillna(df['Item'].mode()[0])"
   ]
  },
  {
   "cell_type": "code",
   "execution_count": 14,
   "id": "60131b3d-3e46-4dbe-991f-9b1f36f681e6",
   "metadata": {},
   "outputs": [
    {
     "name": "stdout",
     "output_type": "stream",
     "text": [
      "Mean of Quantity: 3.0,\n",
      "Median of Quantity: 3.0\n"
     ]
    }
   ],
   "source": [
    "# inspecting mean and median values of 'Quantity' to assess central tendency\n",
    "quantity_mean = round(df['Quantity'].mean(), 0)\n",
    "quantity_median = round(df['Quantity'].median(), 0)\n",
    "\n",
    "print(f'Mean of Quantity: {quantity_mean},\\nMedian of Quantity: {quantity_median}')"
   ]
  },
  {
   "cell_type": "code",
   "execution_count": 15,
   "id": "585359a9-607d-4529-ab96-adc74a4851a2",
   "metadata": {},
   "outputs": [],
   "source": [
    "# replacing missing values in 'Quantity' with mean value\n",
    "# since mean and median are similar, using the mean value minimizes disruption to distribution\n",
    "df['Quantity'] = df['Quantity'].fillna(quantity_mean)"
   ]
  },
  {
   "cell_type": "code",
   "execution_count": 16,
   "id": "c0a5f22a-3246-4021-9bf5-8770cc06a5e5",
   "metadata": {},
   "outputs": [
    {
     "data": {
      "text/plain": [
       "Item      Price Per Unit\n",
       "Cake      3.0               1031\n",
       "Coffee    2.0               1069\n",
       "Cookie    1.0                976\n",
       "Juice     3.0               1288\n",
       "          4.0                202\n",
       "          2.0                116\n",
       "          5.0                115\n",
       "          1.0                112\n",
       "          1.5                108\n",
       "Salad     5.0               1035\n",
       "Sandwich  4.0               1027\n",
       "Smoothie  4.0                990\n",
       "Tea       1.5                965\n",
       "Name: count, dtype: int64"
      ]
     },
     "execution_count": 16,
     "metadata": {},
     "output_type": "execute_result"
    }
   ],
   "source": [
    "# this operation checks how many distinct prices exist for each item and how many times each price occurs\n",
    "# it's useful to understand pricing trends per item before imputing missing values\n",
    "df.groupby('Item')['Price Per Unit'].value_counts()"
   ]
  },
  {
   "cell_type": "code",
   "execution_count": 17,
   "id": "bc2b47e0-fd7e-4753-8013-d72133ec9ca2",
   "metadata": {},
   "outputs": [],
   "source": [
    "# filling missing 'Price Per Unit' with the most frequent price for each item\n",
    "# this ensures consistency in pricing for each item and avoids bias introduced by imputing random values\n",
    "df['Price Per Unit'] = df.groupby('Item')['Price Per Unit'].transform(lambda x: x.fillna(x.mode()[0]))"
   ]
  },
  {
   "cell_type": "code",
   "execution_count": 18,
   "id": "f9744bdb-94af-4305-bb60-24977afacebb",
   "metadata": {},
   "outputs": [],
   "source": [
    "# filling missing 'Total Spent' by calculating it from the product of 'Quantity' and 'Price Per Unit'\n",
    "# this ensures that all missing 'Total Spent' values are logically filled based on other available information\n",
    "df['Total Spent'] = df['Total Spent'].fillna(df['Quantity'] * df['Price Per Unit'])"
   ]
  }
 ],
 "metadata": {
  "kernelspec": {
   "display_name": "Python 3 (ipykernel)",
   "language": "python",
   "name": "python3"
  },
  "language_info": {
   "codemirror_mode": {
    "name": "ipython",
    "version": 3
   },
   "file_extension": ".py",
   "mimetype": "text/x-python",
   "name": "python",
   "nbconvert_exporter": "python",
   "pygments_lexer": "ipython3",
   "version": "3.13.1"
  }
 },
 "nbformat": 4,
 "nbformat_minor": 5
}
